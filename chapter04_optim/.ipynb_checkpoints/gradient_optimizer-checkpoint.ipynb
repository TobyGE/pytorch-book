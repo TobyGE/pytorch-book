{
 "cells": [
  {
   "cell_type": "markdown",
   "metadata": {},
   "source": [
    "# 梯度和优化"
   ]
  },
  {
   "cell_type": "code",
   "execution_count": 1,
   "metadata": {},
   "outputs": [],
   "source": [
    "from math import pi\n",
    "import torch\n",
    "import torch.optim"
   ]
  },
  {
   "cell_type": "markdown",
   "metadata": {},
   "source": [
    "求梯度"
   ]
  },
  {
   "cell_type": "code",
   "execution_count": 7,
   "metadata": {
    "scrolled": false
   },
   "outputs": [
    {
     "name": "stdout",
     "output_type": "stream",
     "text": [
      "函数值 = -1.0\n",
      "梯度值 = tensor([1.7321, 1.7321])\n",
      "梯度值(参考) = tensor([1.7321, 1.7321], grad_fn=<MulBackward0>)\n"
     ]
    }
   ],
   "source": [
    "x = torch.tensor([pi / 3,  pi / 6], requires_grad=True)\n",
    "f = - ((x.cos() ** 2).sum()) ** 2\n",
    "print('函数值 = {}'.format(f))\n",
    "f.backward()\n",
    "print('梯度值 = {}'.format(x.grad))\n",
    "ref = 2 * (torch.cos(x) ** 2).sum() * torch.sin(2 * x)\n",
    "print('梯度值(参考) = {}'.format(ref))"
   ]
  },
  {
   "cell_type": "code",
   "execution_count": 8,
   "metadata": {},
   "outputs": [
    {
     "name": "stdout",
     "output_type": "stream",
     "text": [
      "tensor([1.0472, 0.5236], requires_grad=True)\n",
      "tensor([1.7321, 1.7321])\n"
     ]
    }
   ],
   "source": [
    "print(x)\n",
    "print(x.grad)"
   ]
  },
  {
   "cell_type": "markdown",
   "metadata": {},
   "source": [
    "优化问题求解"
   ]
  },
  {
   "cell_type": "code",
   "execution_count": 9,
   "metadata": {},
   "outputs": [
    {
     "name": "stdout",
     "output_type": "stream",
     "text": [
      "step 0: x = [1.0471975803375244, 0.5235987901687622, 0.7853981852531433], f(x) = -2.25\n",
      "step 1: x = [0.7873899936676025, 0.26379117369651794, 0.48539820313453674], f(x) = -4.894460201263428\n",
      "step 2: x = [0.3449249565601349, 0.041032180190086365, 0.12021312117576599], f(x) = -8.234641075134277\n",
      "step 3: x = [-0.020330876111984253, -0.00601346418261528, -0.016447097063064575], f(x) = -8.995680809020996\n",
      "step 4: x = [0.004053598269820213, 0.0012007872574031353, 0.0032811257988214493], f(x) = -8.999828338623047\n",
      "step 5: x = [-0.0008106203749775887, -0.00024014234077185392, -0.0006561595946550369], f(x) = -8.999993324279785\n",
      "step 6: x = [0.00016212323680520058, 4.802836338058114e-05, 0.00013123138342052698], f(x) = -9.0\n",
      "step 7: x = [-3.242465027142316e-05, -9.605671948520467e-06, -2.6246285415254533e-05], f(x) = -9.0\n",
      "step 8: x = [6.484930054284632e-06, 1.921134753501974e-06, 5.249257810646668e-06], f(x) = -9.0\n",
      "step 9: x = [-1.296985828957986e-06, -3.842269507003948e-07, -1.0498515621293336e-06], f(x) = -9.0\n",
      "step 10: x = [2.593972112663323e-07, 7.684539582442085e-08, 2.0997038063796936e-07], f(x) = -9.0\n"
     ]
    }
   ],
   "source": [
    "x = torch.tensor([pi / 3,  pi / 6, pi / 4], requires_grad=True)\n",
    "optimizer = torch.optim.SGD([x,], lr=0.1, momentum=0)\n",
    "for step in range(11):\n",
    "    if step:\n",
    "        optimizer.zero_grad()\n",
    "        f.backward()\n",
    "        optimizer.step()\n",
    "    f = - ((x.cos() ** 2).sum()) ** 2\n",
    "    print ('step {}: x = {}, f(x) = {}'.format(step, x.tolist(), f))"
   ]
  },
  {
   "cell_type": "code",
   "execution_count": null,
   "metadata": {},
   "outputs": [],
   "source": []
  }
 ],
 "metadata": {
  "kernelspec": {
   "display_name": "Python 3",
   "language": "python",
   "name": "python3"
  },
  "language_info": {
   "codemirror_mode": {
    "name": "ipython",
    "version": 3
   },
   "file_extension": ".py",
   "mimetype": "text/x-python",
   "name": "python",
   "nbconvert_exporter": "python",
   "pygments_lexer": "ipython3",
   "version": "3.6.4"
  },
  "toc": {
   "base_numbering": 1,
   "nav_menu": {},
   "number_sections": true,
   "sideBar": true,
   "skip_h1_title": false,
   "title_cell": "Table of Contents",
   "title_sidebar": "Contents",
   "toc_cell": false,
   "toc_position": {},
   "toc_section_display": true,
   "toc_window_display": false
  },
  "varInspector": {
   "cols": {
    "lenName": 16,
    "lenType": 16,
    "lenVar": 40
   },
   "kernels_config": {
    "python": {
     "delete_cmd_postfix": "",
     "delete_cmd_prefix": "del ",
     "library": "var_list.py",
     "varRefreshCmd": "print(var_dic_list())"
    },
    "r": {
     "delete_cmd_postfix": ") ",
     "delete_cmd_prefix": "rm(",
     "library": "var_list.r",
     "varRefreshCmd": "cat(var_dic_list()) "
    }
   },
   "types_to_exclude": [
    "module",
    "function",
    "builtin_function_or_method",
    "instance",
    "_Feature"
   ],
   "window_display": false
  }
 },
 "nbformat": 4,
 "nbformat_minor": 2
}
