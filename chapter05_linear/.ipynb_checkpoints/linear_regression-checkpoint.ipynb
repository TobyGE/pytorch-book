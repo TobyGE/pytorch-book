{
 "cells": [
  {
   "cell_type": "markdown",
   "metadata": {},
   "source": [
    "# 线性规划"
   ]
  },
  {
   "cell_type": "code",
   "execution_count": 3,
   "metadata": {},
   "outputs": [],
   "source": [
    "import torch\n",
    "import torch.nn\n",
    "import torch.optim"
   ]
  },
  {
   "cell_type": "markdown",
   "metadata": {},
   "source": [
    "用 gels() 最小二乘"
   ]
  },
  {
   "cell_type": "code",
   "execution_count": 4,
   "metadata": {},
   "outputs": [
    {
     "data": {
      "text/plain": [
       "tensor([[  4.6667],\n",
       "        [  2.6667],\n",
       "        [-12.0000]])"
      ]
     },
     "execution_count": 4,
     "metadata": {},
     "output_type": "execute_result"
    }
   ],
   "source": [
    "x = torch.tensor([[1., 1., 1.], [2., 3., 1.],\n",
    "        [3., 5., 1.], [4., 2., 1.], [5., 4., 1.]])\n",
    "y = torch.tensor([-10., 12., 14., 16., 18.])\n",
    "#gels求解最小二乘问题\n",
    "wr, _ = torch.gels(y, x)\n",
    "w = wr[:3]\n",
    "w"
   ]
  },
  {
   "cell_type": "code",
   "execution_count": 5,
   "metadata": {},
   "outputs": [
    {
     "data": {
      "text/plain": [
       "tensor([[  4.6667,   3.3333],\n",
       "        [  2.6667,   1.3333],\n",
       "        [-12.0000,  -3.0000]])"
      ]
     },
     "execution_count": 5,
     "metadata": {},
     "output_type": "execute_result"
    }
   ],
   "source": [
    "x = torch.tensor([[1., 1., 1.], [2., 3., 1.], \n",
    "        [3., 5., 1.], [4., 2., 1.], [5., 4., 1.]])\n",
    "y = torch.tensor([[-10., -3.], [12., 14.], [14., 12.], [16., 16.], [18., 16.]])\n",
    "wr, _ = torch.gels(y, x)\n",
    "w = wr[:3, :]\n",
    "w"
   ]
  },
  {
   "cell_type": "markdown",
   "metadata": {},
   "source": [
    "MSE 损失"
   ]
  },
  {
   "cell_type": "code",
   "execution_count": 6,
   "metadata": {},
   "outputs": [
    {
     "data": {
      "text/plain": [
       "tensor(3., grad_fn=<MseLossBackward>)"
      ]
     },
     "execution_count": 6,
     "metadata": {},
     "output_type": "execute_result"
    }
   ],
   "source": [
    "criterion = torch.nn.MSELoss()\n",
    "pred = torch.arange(5, dtype=torch.float, requires_grad=True)\n",
    "y = torch.ones(5)\n",
    "loss = criterion(pred, y)\n",
    "loss"
   ]
  },
  {
   "cell_type": "code",
   "execution_count": 7,
   "metadata": {},
   "outputs": [
    {
     "name": "stdout",
     "output_type": "stream",
     "text": [
      "tensor([0., 1., 2., 3., 4.], requires_grad=True)\n",
      "tensor([1., 1., 1., 1., 1.])\n"
     ]
    }
   ],
   "source": [
    "print(pred)\n",
    "print(y)"
   ]
  },
  {
   "cell_type": "markdown",
   "metadata": {},
   "source": [
    "用优化引擎求解"
   ]
  },
  {
   "cell_type": "code",
   "execution_count": 8,
   "metadata": {},
   "outputs": [
    {
     "name": "stdout",
     "output_type": "stream",
     "text": [
      "step = 0, loss = 204, W = [0.0, 0.0, 0.0]\n",
      "step = 1000, loss = 86.8401, W = [0.863132655620575, 0.8542488813400269, 0.8209308981895447]\n",
      "step = 2000, loss = 53.6289, W = [1.443850040435791, 1.3946014642715454, 1.1897931098937988]\n",
      "step = 3000, loss = 47.505, W = [1.7840828895568848, 1.634355902671814, 0.957244336605072]\n",
      "step = 4000, loss = 44.2888, W = [2.0315651893615723, 1.7021595239639282, 0.2563045024871826]\n",
      "step = 5000, loss = 40.8731, W = [2.3051974773406982, 1.7125362157821655, -0.6180320382118225]\n",
      "step = 6000, loss = 37.5372, W = [2.6193673610687256, 1.6853389739990234, -1.5441279411315918]\n",
      "step = 7000, loss = 34.5258, W = [2.9509589672088623, 1.6359082460403442, -2.4787137508392334]\n",
      "step = 8000, loss = 31.9455, W = [3.259428024291992, 1.602895975112915, -3.4061660766601562]\n",
      "step = 9000, loss = 29.7652, W = [3.5038466453552246, 1.6267775297164917, -4.3211588859558105]\n",
      "step = 10000, loss = 27.9001, W = [3.6783804893493652, 1.7130744457244873, -5.2205023765563965]\n",
      "step = 11000, loss = 26.3032, W = [3.8159337043762207, 1.8293808698654175, -6.101877689361572]\n",
      "step = 12000, loss = 24.9573, W = [3.942659854888916, 1.9499529600143433, -6.963371276855469]\n",
      "step = 13000, loss = 23.8511, W = [4.0643534660339355, 2.068524122238159, -7.801889419555664]\n",
      "step = 14000, loss = 22.9731, W = [4.181186199188232, 2.183582067489624, -8.612066268920898]\n",
      "step = 15000, loss = 22.31, W = [4.292291641235352, 2.293663263320923, -9.38535213470459]\n",
      "step = 16000, loss = 21.8445, W = [4.3959550857543945, 2.3967199325561523, -10.108354568481445]\n",
      "step = 17000, loss = 21.553, W = [4.489278316497803, 2.4896862506866455, -10.760061264038086]\n",
      "step = 18000, loss = 21.4017, W = [4.567683696746826, 2.567878484725952, -11.307971954345703]\n",
      "step = 19000, loss = 21.3455, W = [4.624871253967285, 2.6249475479125977, -11.707763671875]\n",
      "step = 20000, loss = 21.3341, W = [4.655962944030762, 2.6559815406799316, -11.925153732299805]\n",
      "step = 21000, loss = 21.3333, W = [4.665531158447266, 2.6655330657958984, -11.992059707641602]\n",
      "step = 22000, loss = 21.3333, W = [4.666638374328613, 2.666637420654297, -11.999799728393555]\n",
      "step = 23000, loss = 21.3333, W = [4.666658401489258, 2.666658639907837, -11.999942779541016]\n",
      "step = 24000, loss = 21.3333, W = [4.666673183441162, 2.666673421859741, -12.0]\n",
      "step = 25000, loss = 21.3333, W = [4.666661262512207, 2.6666600704193115, -12.0]\n",
      "step = 26000, loss = 21.3333, W = [4.66666841506958, 2.666668176651001, -12.0]\n",
      "step = 27000, loss = 21.3333, W = [4.666622161865234, 2.6666219234466553, -12.00000286102295]\n",
      "step = 28000, loss = 21.3333, W = [4.6666669845581055, 2.6666672229766846, -12.0]\n",
      "step = 29000, loss = 21.3333, W = [4.6666717529296875, 2.6666715145111084, -11.999999046325684]\n",
      "step = 30000, loss = 21.3333, W = [4.666675567626953, 2.6666760444641113, -11.99999713897705]\n"
     ]
    }
   ],
   "source": [
    "x = torch.tensor([[1., 1., 1.], [2., 3., 1.], \n",
    "        [3., 5., 1.], [4., 2., 1.], [5., 4., 1.]])\n",
    "y = torch.tensor([-10., 12., 14., 16., 18.])\n",
    "w = torch.zeros(3, requires_grad=True)\n",
    "\n",
    "criterion = torch.nn.MSELoss()\n",
    "optimizer = torch.optim.Adam([w,],)\n",
    "\n",
    "for step in range(30001):\n",
    "    if step:\n",
    "        optimizer.zero_grad()\n",
    "        loss.backward()\n",
    "        optimizer.step()\n",
    "    \n",
    "    pred = torch.mv(x, w)\n",
    "    loss = criterion(pred, y)\n",
    "    if step % 1000 == 0:\n",
    "        print('step = {}, loss = {:g}, W = {}'.format(\n",
    "                step, loss, w.tolist()))"
   ]
  },
  {
   "cell_type": "code",
   "execution_count": 9,
   "metadata": {
    "scrolled": true
   },
   "outputs": [
    {
     "name": "stdout",
     "output_type": "stream",
     "text": [
      "step = 0, loss = 137.91, weights = [0.6962534785270691, 0.20035016536712646], bias=0.009614944458007812\n",
      "step = 1000, loss = 60.0625, weights = [1.5142765045166016, 1.0059458017349243], bias=0.7459329962730408\n",
      "step = 2000, loss = 46.6246, weights = [1.9728485345840454, 1.4058681726455688], bias=0.7616218328475952\n",
      "step = 3000, loss = 43.1818, weights = [2.233238458633423, 1.537850022315979], bias=0.08782944083213806\n",
      "step = 4000, loss = 39.8627, weights = [2.483567476272583, 1.5892478227615356], bias=-0.8143101334571838\n",
      "step = 5000, loss = 36.6915, weights = [2.7625319957733154, 1.6043438911437988], bias=-1.7574667930603027\n",
      "step = 6000, loss = 33.8445, weights = [3.054509162902832, 1.596882700920105], bias=-2.6992239952087402\n",
      "step = 7000, loss = 31.385, weights = [3.327730178833008, 1.5990239381790161], bias=-3.6280996799468994\n",
      "step = 8000, loss = 29.286, weights = [3.548811435699463, 1.645173192024231], bias=-4.541390419006348\n",
      "step = 9000, loss = 27.4862, weights = [3.7132062911987305, 1.7404067516326904], bias=-5.437556743621826\n",
      "step = 10000, loss = 25.9505, weights = [3.847790241241455, 1.8584810495376587], bias=-6.315005302429199\n",
      "step = 11000, loss = 24.6637, weights = [3.9731857776641846, 1.9789997339248657], bias=-7.171746253967285\n",
      "step = 12000, loss = 23.6142, weights = [4.093698501586914, 2.09702205657959], bias=-8.004251480102539\n",
      "step = 13000, loss = 22.7902, weights = [4.209221839904785, 2.211122512817383], bias=-8.806525230407715\n",
      "step = 14000, loss = 22.1776, weights = [4.318685054779053, 2.3197667598724365], bias=-9.569051742553711\n",
      "step = 15000, loss = 21.7575, weights = [4.420121192932129, 2.4207170009613037], bias=-10.276902198791504\n",
      "step = 16000, loss = 21.5041, weights = [4.5102620124816895, 2.510573625564575], bias=-10.90658950805664\n",
      "step = 17000, loss = 21.381, weights = [4.584051609039307, 2.584196090698242], bias=-11.422354698181152\n",
      "step = 18000, loss = 21.3403, weights = [4.635031700134277, 2.635082960128784], bias=-11.778792381286621\n",
      "step = 19000, loss = 21.3337, weights = [4.65986442565918, 2.659876585006714], bias=-11.952436447143555\n",
      "step = 20000, loss = 21.3333, weights = [4.66613245010376, 2.6661336421966553], bias=-11.996268272399902\n",
      "step = 21000, loss = 21.3333, weights = [4.666654586791992, 2.666653633117676], bias=-11.999911308288574\n",
      "step = 22000, loss = 21.3333, weights = [4.666658401489258, 2.6666579246520996], bias=-11.999948501586914\n",
      "step = 23000, loss = 21.3333, weights = [4.666665077209473, 2.6666643619537354], bias=-12.000001907348633\n",
      "step = 24000, loss = 21.3333, weights = [4.66664981842041, 2.6666486263275146], bias=-12.000000953674316\n",
      "step = 25000, loss = 21.3333, weights = [4.6666693687438965, 2.666670083999634], bias=-12.000000953674316\n",
      "step = 26000, loss = 21.3333, weights = [4.666656494140625, 2.666656494140625], bias=-12.00000286102295\n",
      "step = 27000, loss = 21.3333, weights = [4.666663646697998, 2.6666643619537354], bias=-12.000000953674316\n",
      "step = 28000, loss = 21.3333, weights = [4.666672706604004, 2.666672706604004], bias=-12.000000953674316\n",
      "step = 29000, loss = 21.3333, weights = [4.666675090789795, 2.6666758060455322], bias=-11.999996185302734\n",
      "step = 30000, loss = 21.3333, weights = [4.666672706604004, 2.666672706604004], bias=-11.999996185302734\n"
     ]
    }
   ],
   "source": [
    "x = torch.tensor([[1., 1.], [2., 3.], [3., 5.], [4., 2.], [5., 4.]])\n",
    "y = torch.tensor([-10., 12., 14., 16., 18.]).reshape(-1, 1)\n",
    "\n",
    "fc = torch.nn.Linear(2, 1)\n",
    "criterion = torch.nn.MSELoss()\n",
    "optimizer = torch.optim.Adam(fc.parameters())\n",
    "weights, bias = fc.parameters()\n",
    "\n",
    "for step in range(30001):\n",
    "    if step:\n",
    "        optimizer.zero_grad()\n",
    "        loss.backward()\n",
    "        optimizer.step()\n",
    "    \n",
    "    pred = fc(x)\n",
    "    loss = criterion(pred, y)\n",
    "    \n",
    "    if step % 1000 == 0:\n",
    "        print('step = {}, loss = {:g}, weights = {}, bias={}'.format(\n",
    "                step, loss, weights[0, :].tolist(), bias.item()))"
   ]
  },
  {
   "cell_type": "markdown",
   "metadata": {},
   "source": [
    "归一化"
   ]
  },
  {
   "cell_type": "code",
   "execution_count": 10,
   "metadata": {},
   "outputs": [],
   "source": [
    "x = torch.tensor([[1, 1, 1], [2, 3, 1], [3, 5, 1],\n",
    "        [4, 2, 1], [5, 4, 1]], dtype=torch.float32)\n",
    "y = torch.tensor([-10, 12, 14, 16, 18],\n",
    "        dtype=torch.float32)\n",
    "\n",
    "x_mean, x_std = torch.mean(x, dim=0), torch.std(x, dim=0)\n",
    "x_mean[-1], x_std[-1] = 0, 1\n",
    "x_norm = (x - x_mean) / x_std"
   ]
  },
  {
   "cell_type": "markdown",
   "metadata": {},
   "source": [
    "无归一化和有归一化的比较"
   ]
  },
  {
   "cell_type": "code",
   "execution_count": 13,
   "metadata": {},
   "outputs": [
    {
     "name": "stdout",
     "output_type": "stream",
     "text": [
      "step = 0, loss = 2.58718e+12\n",
      "step = 1000, loss = 1.34646e+09\n",
      "step = 2000, loss = 436455\n",
      "step = 3000, loss = 436424\n",
      "step = 4000, loss = 436424\n",
      "step = 5000, loss = 436423\n",
      "step = 6000, loss = 436422\n",
      "step = 7000, loss = 436421\n",
      "step = 8000, loss = 436418\n",
      "step = 9000, loss = 436414\n",
      "step = 10000, loss = 436407\n"
     ]
    }
   ],
   "source": [
    "x = torch.tensor([[1000000, 0.0001], [2000000, 0.0003],\n",
    "        [3000000, 0.0005], [4000000, 0.0002], [5000000, 0.0004]])\n",
    "y = torch.tensor([-1000., 1200., 1400., 1600., 1800.]).reshape(-1, 1)\n",
    "\n",
    "fc = torch.nn.Linear(2, 1)\n",
    "criterion = torch.nn.MSELoss()\n",
    "optimizer = torch.optim.Adam(fc.parameters())\n",
    "\n",
    "for step in range(10001):\n",
    "    if step:\n",
    "        optimizer.zero_grad()\n",
    "        loss.backward()\n",
    "        optimizer.step()\n",
    "    pred = fc(x)\n",
    "    loss = criterion(pred, y)\n",
    "    if step % 1000 == 0:\n",
    "        print('step = {}, loss = {:g}'.format(step, loss))"
   ]
  },
  {
   "cell_type": "code",
   "execution_count": 14,
   "metadata": {
    "scrolled": true
   },
   "outputs": [
    {
     "name": "stdout",
     "output_type": "stream",
     "text": [
      "step = 0, loss = 506868\n",
      "step = 1000, loss = 213471\n",
      "step = 2000, loss = 213333\n",
      "step = 3000, loss = 213333\n",
      "step = 4000, loss = 213333\n",
      "step = 5000, loss = 213333\n",
      "step = 6000, loss = 213333\n",
      "step = 7000, loss = 213333\n",
      "step = 8000, loss = 213333\n",
      "step = 9000, loss = 213333\n",
      "step = 10000, loss = 213333\n"
     ]
    }
   ],
   "source": [
    "x = torch.tensor([[1000000, 0.0001], [2000000, 0.0003],\n",
    "        [3000000, 0.0005], [4000000, 0.0002], [5000000, 0.0004]])\n",
    "y = torch.tensor([-1000., 1200., 1400., 1600., 1800.]).reshape(-1, 1)\n",
    "\n",
    "x_mean, x_std = torch.mean(x, dim=0), torch.std(x, dim=0)\n",
    "x_norm = (x - x_mean) / x_std\n",
    "y_mean, y_std = torch.mean(y, dim=0), torch.std(y, dim=0)\n",
    "y_norm = (y - y_mean) / y_std\n",
    "\n",
    "fc = torch.nn.Linear(2, 1)\n",
    "criterion = torch.nn.MSELoss()\n",
    "optimizer = torch.optim.Adam(fc.parameters())\n",
    "\n",
    "for step in range(10001):\n",
    "    if step:\n",
    "        optimizer.zero_grad()\n",
    "        loss_norm.backward()\n",
    "        optimizer.step()\n",
    "    pred_norm = fc(x_norm)\n",
    "    loss_norm = criterion(pred_norm, y_norm)\n",
    "    pred = pred_norm * y_std + y_mean\n",
    "    loss = criterion(pred, y)\n",
    "    if step % 1000 == 0:\n",
    "        print('step = {}, loss = {:g}'.format(step, loss))"
   ]
  },
  {
   "cell_type": "code",
   "execution_count": null,
   "metadata": {},
   "outputs": [],
   "source": []
  }
 ],
 "metadata": {
  "kernelspec": {
   "display_name": "Python 3",
   "language": "python",
   "name": "python3"
  },
  "language_info": {
   "codemirror_mode": {
    "name": "ipython",
    "version": 3
   },
   "file_extension": ".py",
   "mimetype": "text/x-python",
   "name": "python",
   "nbconvert_exporter": "python",
   "pygments_lexer": "ipython3",
   "version": "3.6.4"
  },
  "toc": {
   "base_numbering": 1,
   "nav_menu": {},
   "number_sections": true,
   "sideBar": true,
   "skip_h1_title": false,
   "title_cell": "Table of Contents",
   "title_sidebar": "Contents",
   "toc_cell": false,
   "toc_position": {},
   "toc_section_display": true,
   "toc_window_display": false
  },
  "varInspector": {
   "cols": {
    "lenName": 16,
    "lenType": 16,
    "lenVar": 40
   },
   "kernels_config": {
    "python": {
     "delete_cmd_postfix": "",
     "delete_cmd_prefix": "del ",
     "library": "var_list.py",
     "varRefreshCmd": "print(var_dic_list())"
    },
    "r": {
     "delete_cmd_postfix": ") ",
     "delete_cmd_prefix": "rm(",
     "library": "var_list.r",
     "varRefreshCmd": "cat(var_dic_list()) "
    }
   },
   "types_to_exclude": [
    "module",
    "function",
    "builtin_function_or_method",
    "instance",
    "_Feature"
   ],
   "window_display": false
  }
 },
 "nbformat": 4,
 "nbformat_minor": 2
}
